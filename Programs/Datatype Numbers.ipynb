{
 "cells": [
  {
   "cell_type": "code",
   "execution_count": 1,
   "metadata": {},
   "outputs": [
    {
     "name": "stdout",
     "output_type": "stream",
     "text": [
      "2.0\n",
      "3\n",
      "95\n",
      "(8+6j)\n",
      "5\n"
     ]
    }
   ],
   "source": [
    "a = 8/4 #divide\n",
    "print(a)\n",
    "\n",
    "b = 3%9 #modulo\n",
    "print(b)\n",
    "\n",
    "c = 6+89 #addition\n",
    "print(c)\n",
    "\n",
    "g = 8+6j #complex\n",
    "print(g)\n",
    "\n",
    "h = 9 - 4\n",
    "print(h) #subtraction"
   ]
  },
  {
   "cell_type": "code",
   "execution_count": null,
   "metadata": {},
   "outputs": [],
   "source": []
  }
 ],
 "metadata": {
  "kernelspec": {
   "display_name": "Python 3",
   "language": "python",
   "name": "python3"
  },
  "language_info": {
   "codemirror_mode": {
    "name": "ipython",
    "version": 3
   },
   "file_extension": ".py",
   "mimetype": "text/x-python",
   "name": "python",
   "nbconvert_exporter": "python",
   "pygments_lexer": "ipython3",
   "version": "3.7.6"
  }
 },
 "nbformat": 4,
 "nbformat_minor": 4
}
