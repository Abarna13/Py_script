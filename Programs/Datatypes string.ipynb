{
 "cells": [
  {
   "cell_type": "code",
   "execution_count": 1,
   "metadata": {},
   "outputs": [
    {
     "name": "stdout",
     "output_type": "stream",
     "text": [
      "abi\n",
      "kavi\n"
     ]
    }
   ],
   "source": [
    "a = \"abi\"\n",
    "b = \"kavi\"\n",
    "print(a)\n",
    "print(b)\n"
   ]
  },
  {
   "cell_type": "code",
   "execution_count": 4,
   "metadata": {},
   "outputs": [
    {
     "name": "stdout",
     "output_type": "stream",
     "text": [
      "abi \" laptop \"abi \" laptop \"abi \" laptop \"abi \" laptop \"abi \" laptop \"abi \" laptop \"abi \" laptop \"abi \" laptop \"abi \" laptop \"abi \" laptop \"abi \" laptop \"abi \" laptop \"abi \" laptop \"abi \" laptop \"abi \" laptop \"abi \" laptop \"abi \" laptop \"abi \" laptop \"abi \" laptop \"abi \" laptop \"abi \" laptop \"abi \" laptop \"abi \" laptop \"\n"
     ]
    }
   ],
   "source": [
    "h = 'abi \" laptop \"'\n",
    "print(h*23)\n"
   ]
  },
  {
   "cell_type": "code",
   "execution_count": 5,
   "metadata": {},
   "outputs": [
    {
     "name": "stdout",
     "output_type": "stream",
     "text": [
      "c:\n",
      "ew\n"
     ]
    }
   ],
   "source": [
    "a = 'c:\\new'\n",
    "print(a)\n"
   ]
  },
  {
   "cell_type": "code",
   "execution_count": 6,
   "metadata": {},
   "outputs": [
    {
     "name": "stdout",
     "output_type": "stream",
     "text": [
      "c:\\new\n"
     ]
    }
   ],
   "source": [
    "a = r'c:\\new'\n",
    "print(a)"
   ]
  },
  {
   "cell_type": "code",
   "execution_count": 7,
   "metadata": {},
   "outputs": [
    {
     "name": "stdout",
     "output_type": "stream",
     "text": [
      "kavi's \"laptop\"\n"
     ]
    }
   ],
   "source": [
    "j = 'kavi\\'s \"laptop\"'\n",
    "print (j)\n"
   ]
  },
  {
   "cell_type": "code",
   "execution_count": null,
   "metadata": {},
   "outputs": [],
   "source": []
  }
 ],
 "metadata": {
  "kernelspec": {
   "display_name": "Python 3",
   "language": "python",
   "name": "python3"
  },
  "language_info": {
   "codemirror_mode": {
    "name": "ipython",
    "version": 3
   },
   "file_extension": ".py",
   "mimetype": "text/x-python",
   "name": "python",
   "nbconvert_exporter": "python",
   "pygments_lexer": "ipython3",
   "version": "3.7.6"
  }
 },
 "nbformat": 4,
 "nbformat_minor": 4
}
